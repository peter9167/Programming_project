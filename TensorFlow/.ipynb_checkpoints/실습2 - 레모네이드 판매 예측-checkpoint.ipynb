{
 "cells": [
  {
   "cell_type": "code",
   "execution_count": 1,
   "id": "64c49be4",
   "metadata": {},
   "outputs": [],
   "source": [
    "#라이브러리 사용\n",
    "import tensorflow as tf\n",
    "import pandas as pd"
   ]
  },
  {
   "cell_type": "code",
   "execution_count": 2,
   "id": "bae7ec0a",
   "metadata": {},
   "outputs": [
    {
     "data": {
      "text/html": [
       "<div>\n",
       "<style scoped>\n",
       "    .dataframe tbody tr th:only-of-type {\n",
       "        vertical-align: middle;\n",
       "    }\n",
       "\n",
       "    .dataframe tbody tr th {\n",
       "        vertical-align: top;\n",
       "    }\n",
       "\n",
       "    .dataframe thead th {\n",
       "        text-align: right;\n",
       "    }\n",
       "</style>\n",
       "<table border=\"1\" class=\"dataframe\">\n",
       "  <thead>\n",
       "    <tr style=\"text-align: right;\">\n",
       "      <th></th>\n",
       "      <th>온도</th>\n",
       "      <th>판매량</th>\n",
       "    </tr>\n",
       "  </thead>\n",
       "  <tbody>\n",
       "    <tr>\n",
       "      <th>0</th>\n",
       "      <td>20</td>\n",
       "      <td>40</td>\n",
       "    </tr>\n",
       "    <tr>\n",
       "      <th>1</th>\n",
       "      <td>21</td>\n",
       "      <td>42</td>\n",
       "    </tr>\n",
       "    <tr>\n",
       "      <th>2</th>\n",
       "      <td>22</td>\n",
       "      <td>44</td>\n",
       "    </tr>\n",
       "    <tr>\n",
       "      <th>3</th>\n",
       "      <td>23</td>\n",
       "      <td>46</td>\n",
       "    </tr>\n",
       "    <tr>\n",
       "      <th>4</th>\n",
       "      <td>24</td>\n",
       "      <td>48</td>\n",
       "    </tr>\n",
       "  </tbody>\n",
       "</table>\n",
       "</div>"
      ],
      "text/plain": [
       "   온도  판매량\n",
       "0  20   40\n",
       "1  21   42\n",
       "2  22   44\n",
       "3  23   46\n",
       "4  24   48"
      ]
     },
     "execution_count": 2,
     "metadata": {},
     "output_type": "execute_result"
    }
   ],
   "source": [
    "# 데이터를 준비합니다.\n",
    "파일경로 = 'https://raw.githubusercontent.com/blackdew/tensorflow1/master/csv/lemonade.csv'\n",
    "레모네이드 = pd.read_csv(파일경로)\n",
    "레모네이드.head()"
   ]
  },
  {
   "cell_type": "code",
   "execution_count": 3,
   "id": "11fee563",
   "metadata": {},
   "outputs": [
    {
     "name": "stdout",
     "output_type": "stream",
     "text": [
      "(6, 1) (6, 1)\n"
     ]
    }
   ],
   "source": [
    "# 종속변수, 독립변수\n",
    "독립 = 레모네이드[['온도']]\n",
    "종속 = 레모네이드[['판매량']]\n",
    "print(독립.shape, 종속.shape)"
   ]
  },
  {
   "cell_type": "code",
   "execution_count": 6,
   "id": "70febfd8",
   "metadata": {},
   "outputs": [],
   "source": [
    "# 모델을 만듭니다.\n",
    "X = tf.keras.layers.Input(shape=[1]) # 독립 변수에 컬럼이 1개이기 때문에 1을 삽입\n",
    "Y = tf.keras.layers.Dense(1)(X) # 종속 변수에 컬럼이 1개이기 때문에 1을 삽입\n",
    "model = tf.keras.models.Model(X, Y)\n",
    "model.compile(loss='mse')\n"
   ]
  },
  {
   "cell_type": "code",
   "execution_count": 11,
   "id": "f61fd9a2",
   "metadata": {},
   "outputs": [
    {
     "name": "stdout",
     "output_type": "stream",
     "text": [
      "Epoch 1/10\n",
      "1/1 [==============================] - 0s 3ms/step - loss: 2.3600e-04\n",
      "Epoch 2/10\n",
      "1/1 [==============================] - 0s 2ms/step - loss: 2.3586e-04\n",
      "Epoch 3/10\n",
      "1/1 [==============================] - 0s 2ms/step - loss: 2.3571e-04\n",
      "Epoch 4/10\n",
      "1/1 [==============================] - 0s 3ms/step - loss: 2.3571e-04\n",
      "Epoch 5/10\n",
      "1/1 [==============================] - 0s 2ms/step - loss: 2.3568e-04\n",
      "Epoch 6/10\n",
      "1/1 [==============================] - 0s 2ms/step - loss: 2.3569e-04\n",
      "Epoch 7/10\n",
      "1/1 [==============================] - 0s 2ms/step - loss: 2.3564e-04\n",
      "Epoch 8/10\n",
      "1/1 [==============================] - 0s 2ms/step - loss: 2.3555e-04\n",
      "Epoch 9/10\n",
      "1/1 [==============================] - 0s 2ms/step - loss: 2.3543e-04\n",
      "Epoch 10/10\n",
      "1/1 [==============================] - 0s 987us/step - loss: 2.3534e-04\n"
     ]
    },
    {
     "data": {
      "text/plain": [
       "<keras.callbacks.History at 0x216860f9c10>"
      ]
     },
     "execution_count": 11,
     "metadata": {},
     "output_type": "execute_result"
    }
   ],
   "source": [
    "# 모델을 학습합니다.\n",
    "model.fit(독립, 종속, epochs=10) # verbose는 화면상 학습한 것을 출력하지 않는다."
   ]
  },
  {
   "cell_type": "code",
   "execution_count": 13,
   "id": "c67a2fab",
   "metadata": {},
   "outputs": [
    {
     "data": {
      "text/plain": [
       "array([[40.025547],\n",
       "       [42.020313],\n",
       "       [44.01508 ],\n",
       "       [46.009846],\n",
       "       [48.004616],\n",
       "       [49.999382]], dtype=float32)"
      ]
     },
     "execution_count": 13,
     "metadata": {},
     "output_type": "execute_result"
    }
   ],
   "source": [
    "# 모델을 이용합니다.\n",
    "model.predict(독립)"
   ]
  },
  {
   "cell_type": "code",
   "execution_count": 18,
   "id": "854e5824",
   "metadata": {},
   "outputs": [
    {
     "data": {
      "text/plain": [
       "array([[30.051716]], dtype=float32)"
      ]
     },
     "execution_count": 18,
     "metadata": {},
     "output_type": "execute_result"
    }
   ],
   "source": [
    "model.predict([15])"
   ]
  }
 ],
 "metadata": {
  "kernelspec": {
   "display_name": "Python 3 (ipykernel)",
   "language": "python",
   "name": "python3"
  },
  "language_info": {
   "codemirror_mode": {
    "name": "ipython",
    "version": 3
   },
   "file_extension": ".py",
   "mimetype": "text/x-python",
   "name": "python",
   "nbconvert_exporter": "python",
   "pygments_lexer": "ipython3",
   "version": "3.9.7"
  }
 },
 "nbformat": 4,
 "nbformat_minor": 5
}
