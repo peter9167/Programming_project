{
 "cells": [
  {
   "cell_type": "code",
   "execution_count": 6,
   "id": "e1b2c62c",
   "metadata": {},
   "outputs": [],
   "source": [
    "# 라이브러리 사용\n",
    "import pandas as pd"
   ]
  },
  {
   "cell_type": "code",
   "execution_count": null,
   "id": "1bf20fbd",
   "metadata": {},
   "outputs": [],
   "source": [
    "# 파일로부터 데이터 읽어오기\n",
    "파일경로 = 'https://raw.githubusercontent.com/blackdew/tensorflow1/master/csv/lemonade.csv'\n",
    "레모네이드 = pd.read_csv(파일경로)\n",
    " \n",
    "파일경로 = 'https://raw.githubusercontent.com/blackdew/tensorflow1/master/csv/boston.csv'\n",
    "보스턴 = pd.read_csv(파일경로)\n",
    " \n",
    "파일경로 = 'https://raw.githubusercontent.com/blackdew/tensorflow1/master/csv/iris.csv'\n",
    "아이리스 = pd.read_csv(파일경로)"
   ]
  },
  {
   "cell_type": "code",
   "execution_count": null,
   "id": "22d56b10",
   "metadata": {},
   "outputs": [],
   "source": [
    "# 데이터의 모양확인\n",
    "print(레모네이드.shape)\n",
    "print(보스턴.shape)\n",
    "print(아이리스.shape) "
   ]
  },
  {
   "cell_type": "code",
   "execution_count": null,
   "id": "48745531",
   "metadata": {},
   "outputs": [],
   "source": [
    "# 데이터 칼럼이름 확인\n",
    "print(레모네이드.columns)\n",
    "print(보스턴.columns)\n",
    "print(아이리스.columns)"
   ]
  },
  {
   "cell_type": "code",
   "execution_count": null,
   "id": "a63ba5c9",
   "metadata": {},
   "outputs": [],
   "source": [
    "# 독립변수와 종속변수 분리\n",
    "독립 = 레모네이드[['온도']]\n",
    "종속 = 레모네이드[['판매량']]\n",
    "print(독립.shape, 종속.shape)\n",
    " \n",
    "독립 = 보스턴[['crim', 'zn', 'indus', 'chas', 'nox', \n",
    "            'rm', 'age', 'dis', 'rad', 'tax',\n",
    "            'ptratio', 'b', 'lstat']]\n",
    "종속 = 보스턴[['medv']]\n",
    "print(독립.shape, 종속.shape)\n",
    " \n",
    "독립 = 아이리스[['꽃잎길이', '꽃잎폭', '꽃받침길이', '꽃받침폭']]\n",
    "종속 = 아이리스[['품종']]\n",
    "print(독립.shape, 종속.shape)"
   ]
  },
  {
   "cell_type": "code",
   "execution_count": null,
   "id": "c84e9cdc",
   "metadata": {},
   "outputs": [],
   "source": [
    "# 각각의 데이터 확인해보기\n",
    "print(레모네이드.head())\n",
    "print(보스턴.head())\n",
    "print(아이리스.head())"
   ]
  }
 ],
 "metadata": {
  "kernelspec": {
   "display_name": "Python 3 (ipykernel)",
   "language": "python",
   "name": "python3"
  },
  "language_info": {
   "codemirror_mode": {
    "name": "ipython",
    "version": 3
   },
   "file_extension": ".py",
   "mimetype": "text/x-python",
   "name": "python",
   "nbconvert_exporter": "python",
   "pygments_lexer": "ipython3",
   "version": "3.9.7"
  }
 },
 "nbformat": 4,
 "nbformat_minor": 5
}
